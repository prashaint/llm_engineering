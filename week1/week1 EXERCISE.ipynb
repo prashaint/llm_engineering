{
 "cells": [
  {
   "cell_type": "markdown",
   "id": "fe12c203-e6a6-452c-a655-afb8a03a4ff5",
   "metadata": {},
   "source": [
    "# End of week 1 exercise\n",
    "\n",
    "To demonstrate your familiarity with OpenAI API, and also Ollama, build a tool that takes a technical question,  \n",
    "and responds with an explanation. This is a tool that you will be able to use yourself during the course!"
   ]
  },
  {
   "cell_type": "code",
   "execution_count": 14,
   "id": "c1070317-3ed9-4659-abe3-828943230e03",
   "metadata": {},
   "outputs": [],
   "source": [
    "# imports\n",
    "import os\n",
    "import requests\n",
    "from dotenv import load_dotenv\n",
    "#from bs4 import BeautifulSoup\n",
    "from IPython.display import display, Markdown, update_display\n",
    "from openai import OpenAI\n"
   ]
  },
  {
   "cell_type": "code",
   "execution_count": 15,
   "id": "4a456906-915a-4bfd-bb9d-57e505c5093f",
   "metadata": {},
   "outputs": [],
   "source": [
    "# constants\n",
    "\n",
    "MODEL_GPT = 'gpt-4o-mini'\n",
    "MODEL_LLAMA = 'llama3.2'"
   ]
  },
  {
   "cell_type": "code",
   "execution_count": 16,
   "id": "a8d7923c-5f28-4c30-8556-342d7c8497c1",
   "metadata": {},
   "outputs": [],
   "source": [
    "# set up environment\n",
    "load_dotenv()\n",
    "\n",
    "#API_KEY = os.getenv(\"OPENAI_API_KEY\")\n",
    "API_KEY = 'ollama'\n",
    "OLAMA_API = 'http://localhost:11434/v1'"
   ]
  },
  {
   "cell_type": "code",
   "execution_count": 17,
   "id": "3f0d0137-52b0-47a8-81a8-11a90a010798",
   "metadata": {},
   "outputs": [],
   "source": [
    "# here is the question; type over this to ask something new\n",
    "\n",
    "system_prompt = \"\"\"\n",
    "You are an experinced developer in programming, Please explain what this code does and why:\n",
    "yield from {book.get(\"author\") for book in books if book.get(\"author\")}\n",
    "\"\"\"\n",
    "\n",
    "user_prompt = \"\"\"\n",
    "provide the explaination in step-by-stem manner with bullet points and markdown.\n",
    "\"\"\"\n"
   ]
  },
  {
   "cell_type": "code",
   "execution_count": 18,
   "id": "60ce7000-a4a5-4cce-a261-e75ef45063b4",
   "metadata": {},
   "outputs": [],
   "source": [
    "# Get gpt-4o-mini to answer, with streaming"
   ]
  },
  {
   "cell_type": "code",
   "execution_count": 19,
   "id": "8f7c8ea8-4082-4ad0-8751-3301adcf6538",
   "metadata": {},
   "outputs": [],
   "source": [
    "# Get Llama 3.2 to answer\n",
    "def explain_answer():\n",
    "    ollama_openai = OpenAI(base_url=OLAMA_API, api_key=API_KEY)\n",
    "    stream = ollama_openai.chat.completions.create(\n",
    "        model = MODEL_LLAMA,\n",
    "        messages = [\n",
    "            {\"role\": \"system\", \"content\": system_prompt},\n",
    "            {\"role\": \"user\", \"content\": user_prompt}\n",
    "            ],\n",
    "        stream = True\n",
    "    )\n",
    "    response = \"\"\n",
    "    display_handle = display(Markdown(\"\"), display_id=True)\n",
    "    for chunk in stream:\n",
    "        response += chunk.choices[0].delta.content or ''\n",
    "        response = response.replace(\"```\", \"\").replace(\"markdown\", \"\")\n",
    "        update_display(Markdown(response), display_id=display_handle.display_id)\n",
    "        \n",
    "    "
   ]
  },
  {
   "cell_type": "code",
   "execution_count": 20,
   "id": "2d1f0c8a-9586-41ec-a82b-746892636ff8",
   "metadata": {},
   "outputs": [
    {
     "data": {
      "text/markdown": [
       "**Code Explanation: Yielding a Generator based on Book Authors**\n",
       "======================================================================\n",
       "\n",
       "The given code snippet uses Python's generator syntax to yield a sequence of authors from a list of books. Here's a step-by-step explanation:\n",
       "\n",
       "**Step 1: Understanding the Context**\n",
       "------------------------------------\n",
       "\n",
       "* The code is likely part of a larger application that involves processing a list of books.\n",
       "* Each book is represented as an object with attributes such as `title`, `author`, etc.\n",
       "\n",
       "**Step 2: Defining the Inner Generator**\n",
       "---------------------------------------\n",
       "\n",
       "* `{book.get(\"author\") for book in books if book.get(\"author\")}` is a generator expression.\n",
       "* It iterates over the list of books (`books`) and only includes books that have an `author` attribute set to some value (i.e., not None or empty string).\n",
       "\n",
       "**Step 3: The `yield from` Statement**\n",
       "--------------------------------------\n",
       "\n",
       "* The `yield from` statement is used to delegate a sub-generator to be yielded instead of computing it all at once.\n",
       "* In this case, it delegates the inner generator to yield its values.\n",
       "\n",
       "Here's the step-by-step code with added comments:\n",
       "\n",
       "python\n",
       "# Define a list of books (assuming each book is an object)\n",
       "books = [\n",
       "    {\"title\": \"Book 1\", \"author\": \"Author 1\"},\n",
       "    {\"title\": \"Book 2\", },  # missing author attribute value\n",
       "    {\"title\": \"Book 3\", \"author\": \"Author 3\"}\n",
       "]\n",
       "\n",
       "# Inner generator that yields book authors (only those with values)\n",
       "inner_genre = {\n",
       "    book.get(\"author\") for book in books\n",
       "}\n",
       "\n",
       "# Delegating the inner generator to yield its values using 'yield from'\n",
       "result = yield from inner_genre\n",
       "\n",
       "\n",
       "**Step 4: Consuming the Generator**\n",
       "----------------------------------\n",
       "\n",
       "* To use the resulting sequence, you need to consume it (e.g., iterate over it or store it in a collection).\n",
       "\n",
       "Example usage:\n",
       "python\n",
       "for author in result:\n",
       "    print(author)  # Output: Author 1, Author 3\n",
       "\n",
       "\n",
       "By using generators and the `yield from` statement, this code efficiently yields only the book authors that have values, without computing unnecessary data."
      ],
      "text/plain": [
       "<IPython.core.display.Markdown object>"
      ]
     },
     "metadata": {},
     "output_type": "display_data"
    }
   ],
   "source": [
    "explain_answer()"
   ]
  },
  {
   "cell_type": "code",
   "execution_count": null,
   "id": "3e9f659a-08bb-4bb0-8802-ad20693bb655",
   "metadata": {},
   "outputs": [],
   "source": []
  }
 ],
 "metadata": {
  "kernelspec": {
   "display_name": "Python 3 (ipykernel)",
   "language": "python",
   "name": "python3"
  },
  "language_info": {
   "codemirror_mode": {
    "name": "ipython",
    "version": 3
   },
   "file_extension": ".py",
   "mimetype": "text/x-python",
   "name": "python",
   "nbconvert_exporter": "python",
   "pygments_lexer": "ipython3",
   "version": "3.11.11"
  }
 },
 "nbformat": 4,
 "nbformat_minor": 5
}
