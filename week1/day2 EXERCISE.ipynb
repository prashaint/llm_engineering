{
 "cells": [
  {
   "cell_type": "markdown",
   "id": "d15d8294-3328-4e07-ad16-8a03e9bbfdb9",
   "metadata": {},
   "source": [
    "# Welcome to your first assignment!\n",
    "\n",
    "Instructions are below. Please give this a try, and look in the solutions folder if you get stuck (or feel free to ask me!)"
   ]
  },
  {
   "cell_type": "markdown",
   "id": "ada885d9-4d42-4d9b-97f0-74fbbbfe93a9",
   "metadata": {},
   "source": [
    "<table style=\"margin: 0; text-align: left;\">\n",
    "    <tr>\n",
    "        <td style=\"width: 150px; height: 150px; vertical-align: middle;\">\n",
    "            <img src=\"../resources.jpg\" width=\"150\" height=\"150\" style=\"display: block;\" />\n",
    "        </td>\n",
    "        <td>\n",
    "            <h2 style=\"color:#f71;\">Just before we get to the assignment --</h2>\n",
    "            <span style=\"color:#f71;\">I thought I'd take a second to point you at this page of useful resources for the course. This includes links to all the slides.<br/>\n",
    "            <a href=\"https://edwarddonner.com/2024/11/13/llm-engineering-resources/\">https://edwarddonner.com/2024/11/13/llm-engineering-resources/</a><br/>\n",
    "            Please keep this bookmarked, and I'll continue to add more useful links there over time.\n",
    "            </span>\n",
    "        </td>\n",
    "    </tr>\n",
    "</table>"
   ]
  },
  {
   "cell_type": "markdown",
   "id": "6e9fa1fc-eac5-4d1d-9be4-541b3f2b3458",
   "metadata": {},
   "source": [
    "# HOMEWORK EXERCISE ASSIGNMENT\n",
    "\n",
    "Upgrade the day 1 project to summarize a webpage to use an Open Source model running locally via Ollama rather than OpenAI\n",
    "\n",
    "You'll be able to use this technique for all subsequent projects if you'd prefer not to use paid APIs.\n",
    "\n",
    "**Benefits:**\n",
    "1. No API charges - open-source\n",
    "2. Data doesn't leave your box\n",
    "\n",
    "**Disadvantages:**\n",
    "1. Significantly less power than Frontier Model\n",
    "\n",
    "## Recap on installation of Ollama\n",
    "\n",
    "Simply visit [ollama.com](https://ollama.com) and install!\n",
    "\n",
    "Once complete, the ollama server should already be running locally.  \n",
    "If you visit:  \n",
    "[http://localhost:11434/](http://localhost:11434/)\n",
    "\n",
    "You should see the message `Ollama is running`.  \n",
    "\n",
    "If not, bring up a new Terminal (Mac) or Powershell (Windows) and enter `ollama serve`  \n",
    "And in another Terminal (Mac) or Powershell (Windows), enter `ollama pull llama3.2`  \n",
    "Then try [http://localhost:11434/](http://localhost:11434/) again.\n",
    "\n",
    "If Ollama is slow on your machine, try using `llama3.2:1b` as an alternative. Run `ollama pull llama3.2:1b` from a Terminal or Powershell, and change the code below from `MODEL = \"llama3.2\"` to `MODEL = \"llama3.2:1b\"`"
   ]
  },
  {
   "cell_type": "code",
   "execution_count": 1,
   "id": "4e2a9393-7767-488e-a8bf-27c12dca35bd",
   "metadata": {},
   "outputs": [],
   "source": [
    "# imports\n",
    "\n",
    "import requests\n",
    "from bs4 import BeautifulSoup\n",
    "from IPython.display import Markdown, display"
   ]
  },
  {
   "cell_type": "code",
   "execution_count": 2,
   "id": "29ddd15d-a3c5-4f4e-a678-873f56162724",
   "metadata": {},
   "outputs": [],
   "source": [
    "# Constants\n",
    "\n",
    "OLLAMA_API = \"http://localhost:11434/api/chat\"\n",
    "HEADERS = {\"Content-Type\": \"application/json\"}\n",
    "MODEL = \"llama3.2\""
   ]
  },
  {
   "cell_type": "code",
   "execution_count": 3,
   "id": "dac0a679-599c-441f-9bf2-ddc73d35b940",
   "metadata": {},
   "outputs": [],
   "source": [
    "# Create a messages list using the same format that we used for OpenAI\n",
    "\n",
    "messages = [\n",
    "    {\"role\": \"user\", \"content\": \"Describe some of the business applications of Generative AI\"}\n",
    "]"
   ]
  },
  {
   "cell_type": "code",
   "execution_count": 4,
   "id": "7bb9c624-14f0-4945-a719-8ddb64f66f47",
   "metadata": {},
   "outputs": [],
   "source": [
    "payload = {\n",
    "        \"model\": MODEL,\n",
    "        \"messages\": messages,\n",
    "        \"stream\": False\n",
    "    }"
   ]
  },
  {
   "cell_type": "code",
   "execution_count": 5,
   "id": "42b9f644-522d-4e05-a691-56e7658c0ea9",
   "metadata": {},
   "outputs": [
    {
     "name": "stdout",
     "output_type": "stream",
     "text": [
      "Generative AI has numerous business applications across various industries. Some examples include:\n",
      "\n",
      "1. **Content Generation**: AI can generate high-quality content such as articles, social media posts, product descriptions, and more. This can help businesses save time and resources, while also improving the consistency and quality of their content.\n",
      "\n",
      "2. **Image and Video Generation**: Generative AI can create realistic images and videos that can be used for various purposes such as advertising, marketing, and entertainment. For example, AI-generated characters or objects can be used to create custom avatars for e-learning platforms or social media influencers.\n",
      "\n",
      "3. **Chatbots and Virtual Assistants**: AI-powered chatbots and virtual assistants can help businesses provide customer support and improve user experience. They can also be used to power conversational interfaces for voice assistants like Alexa and Google Assistant.\n",
      "\n",
      "4. **Predictive Maintenance**: Generative AI can analyze sensor data from machines and predict when maintenance is required, reducing downtime and improving overall efficiency.\n",
      "\n",
      "5. **Marketing and Advertising**: AI-generated content such as product reviews, social media posts, and advertisements can help businesses reach their target audience more effectively.\n",
      "\n",
      "6. **Data Augmentation**: Generative AI can be used to augment existing datasets by generating new data points that are similar in nature but different from the original data. This can help improve the accuracy of machine learning models and reduce bias.\n",
      "\n",
      "7. **Customer Service**: AI-powered chatbots and virtual assistants can help businesses provide personalized customer service, responding to customer inquiries and resolving issues more efficiently.\n",
      "\n",
      "8. **Innovation and Idea Generation**: Generative AI can be used to generate new ideas for products, services, and business opportunities, helping businesses stay ahead of the competition.\n",
      "\n",
      "9. **Automated Writing and Editing**: AI-powered writing tools can help businesses automate the process of editing and proofreading content, reducing the need for human editors.\n",
      "\n",
      "10. **Design and Architecture**: Generative AI can be used to generate new design ideas for products, buildings, and other structures, helping architects and designers improve their designs and reduce costs.\n",
      "\n",
      "11. **Supply Chain Optimization**: AI-powered predictive analytics can help businesses optimize supply chain operations by predicting demand, managing inventory, and improving logistics.\n",
      "\n",
      "12. **Cybersecurity Threat Intelligence**: Generative AI can be used to analyze threat intelligence data and predict potential security threats, helping businesses stay ahead of cyber threats.\n",
      "\n",
      "13. **E-commerce Product Recommendations**: AI-generated product recommendations can help e-commerce businesses improve customer engagement and increase sales.\n",
      "\n",
      "14. **Sales Forecasting**: Generative AI can be used to analyze historical sales data and generate forecasts for future sales, helping businesses make informed decisions about pricing and inventory.\n",
      "\n",
      "15. **Scientific Research and Discovery**: AI-powered generative models can be used to simulate complex systems, analyze large datasets, and discover new patterns and relationships in scientific research.\n",
      "\n",
      "These are just a few examples of the many business applications of Generative AI. As the technology continues to evolve, we can expect to see even more innovative uses of Generative AI across various industries.\n"
     ]
    }
   ],
   "source": [
    "response = requests.post(OLLAMA_API, json=payload, headers=HEADERS)\n",
    "print(response.json()['message']['content'])"
   ]
  },
  {
   "cell_type": "markdown",
   "id": "6a021f13-d6a1-4b96-8e18-4eae49d876fe",
   "metadata": {},
   "source": [
    "# Introducing the ollama package\n",
    "\n",
    "And now we'll do the same thing, but using the elegant ollama python package instead of a direct HTTP call.\n",
    "\n",
    "Under the hood, it's making the same call as above to the ollama server running at localhost:11434"
   ]
  },
  {
   "cell_type": "code",
   "execution_count": 6,
   "id": "7745b9c4-57dc-4867-9180-61fa5db55eb8",
   "metadata": {},
   "outputs": [
    {
     "name": "stdout",
     "output_type": "stream",
     "text": [
      "Generative AI has numerous business applications across various industries, including:\n",
      "\n",
      "1. **Content Creation**: Generate high-quality content such as product descriptions, social media posts, and articles using natural language processing (NLP) algorithms.\n",
      "2. **Product Design**: Create 3D models and designs for products using generative design tools, reducing the need for manual drafting and increasing efficiency.\n",
      "3. **Marketing Automation**: Use generative AI to personalize marketing campaigns, create targeted advertisements, and optimize email templates.\n",
      "4. **Customer Service Chatbots**: Develop conversational chatbots that can respond to customer inquiries, providing 24/7 support and improving customer satisfaction.\n",
      "5. **Image Generation**: Create high-quality images for marketing materials, product showcases, or social media using generative image models such as DALL-E or Midjourney.\n",
      "6. **Video Creation**: Generate videos for explainer content, product demos, or tutorials using AI-powered video editing tools.\n",
      "7. **Predictive Maintenance**: Use machine learning algorithms to predict equipment failures and schedule maintenance, reducing downtime and increasing efficiency.\n",
      "8. **Data Analysis**: Apply generative AI to analyze large datasets, identify patterns, and make predictions, providing insights for business decision-making.\n",
      "9. **Recommendation Systems**: Develop personalized recommendation engines that suggest products or services based on user behavior and preferences.\n",
      "10. **Cybersecurity**: Use generative AI to detect anomalies in network traffic, identify potential threats, and develop customized security solutions.\n",
      "\n",
      "Industry-specific applications:\n",
      "\n",
      "1. **Finance**: Generate financial reports, create investment models, and optimize trading strategies using generative AI.\n",
      "2. **Healthcare**: Develop personalized treatment plans, generate medical images, and analyze patient data using AI-powered tools.\n",
      "3. **Retail**: Create personalized product recommendations, generate visual displays, and optimize inventory management using generative AI.\n",
      "4. **Education**: Develop adaptive learning systems, create customized educational content, and assess student performance using AI-powered tools.\n",
      "\n",
      "Benefits of Generative AI:\n",
      "\n",
      "1. Increased efficiency and productivity\n",
      "2. Improved accuracy and reduced errors\n",
      "3. Enhanced customer experience and engagement\n",
      "4. New business opportunities and revenue streams\n",
      "5. Reduced costs associated with manual data processing and analysis\n",
      "\n",
      "However, it's essential to note that generative AI also raises concerns around:\n",
      "\n",
      "1. Job displacement\n",
      "2. Data privacy and security\n",
      "3. Bias and fairness in decision-making\n",
      "4. Dependence on technology and loss of human skills\n",
      "\n",
      "To ensure successful implementation of generative AI, businesses must consider these challenges and develop strategies to mitigate them.\n"
     ]
    }
   ],
   "source": [
    "import ollama\n",
    "\n",
    "response = ollama.chat(model=MODEL, messages=messages)\n",
    "print(response['message']['content'])"
   ]
  },
  {
   "cell_type": "markdown",
   "id": "a4704e10-f5fb-4c15-a935-f046c06fb13d",
   "metadata": {},
   "source": [
    "## Alternative approach - using OpenAI python library to connect to Ollama"
   ]
  },
  {
   "cell_type": "code",
   "execution_count": 8,
   "id": "23057e00-b6fc-4678-93a9-6b31cb704bff",
   "metadata": {},
   "outputs": [
    {
     "name": "stdout",
     "output_type": "stream",
     "text": [
      "Generative AI has numerous business Applications across various industries. Here are some examples:\n",
      "\n",
      "1. **Content Creation**: Generative AI can be used to generate high-quality content such as blog posts, social media posts, product descriptions, and more. This helps businesses save time and resources on content creation.\n",
      "2. **Virtual Assistants**: Generative AI-powered virtual assistants can help book sales appointments, provide personalized recommendations, and even create basic marketing materials.\n",
      "3. **Chatbots**: Generative AI-based chatbots can engage with customers, respond to inquiries, and provide customer support 24/7, helping businesses improve their overall customer experience.\n",
      "4. **Marketing Automation**: Generative AI can help automate repetitive marketing tasks such as email campaigns, ad copywriting, and even predicting customer behavior.\n",
      "5. **Product Design**: Generative AI can be used to design new products, including product layouts, packaging, and even entire product lines.\n",
      "6. **Music and Audio Generation**: Generative AI can be used to create music, sound effects, and audio samples for various industries such as advertising, gaming, and film.\n",
      "7. **Language Translation**: Generative AI can help translate text from one language to another, opening up new business opportunities in international trade and commerce.\n",
      "8. **Data Visualization**: Generative AI can help create visually stunning data visualizations such as dashboards, reports, and presentations.\n",
      "9. **Innovation Incubation**: Generative AI can be used to identify new product ideas, develop prototypes, and predict market demand.\n",
      "10. **Cybersecurity**: Generative AI-powered tools can detect malware, predict cyber threats, and even generate automated responses to phishing attacks.\n",
      "\n",
      "Some specific examples of businesses that have adopted generative AI include:\n",
      "\n",
      "* **Amazon**: Using generative AI to create personalized product recommendations and automate customer service\n",
      "* **Google**: Using generative AI to improve search results, personalize online ads, and automate content creation\n",
      "* **Microsoft**: Using generative AI to power their visualizations tools, provide predictive maintenance for equipment, and generate new ideas for product development\n",
      "* **Netflix**: Using generative AI to create personalized content recommendations and automate video production\n",
      "\n",
      "These are just a few examples of the many businesses that are already leveraging generative AI to gain a competitive edge.\n"
     ]
    }
   ],
   "source": [
    "# There's actually an alternative approach that some people might prefer\n",
    "# You can use the OpenAI client python library to call Ollama:\n",
    "\n",
    "from openai import OpenAI\n",
    "ollama_via_openai = OpenAI(base_url='http://localhost:11434/v1', api_key='ollama')\n",
    "\n",
    "response = ollama_via_openai.chat.completions.create(\n",
    "    model=MODEL,\n",
    "    messages=messages\n",
    ")\n",
    "\n",
    "print(response.choices[0].message.content)"
   ]
  },
  {
   "cell_type": "markdown",
   "id": "1622d9bb-5c68-4d4e-9ca4-b492c751f898",
   "metadata": {},
   "source": [
    "# NOW the exercise for you\n",
    "\n",
    "Take the code from day1 and incorporate it here, to build a website summarizer that uses Llama 3.2 running locally instead of OpenAI; use either of the above approaches."
   ]
  },
  {
   "cell_type": "code",
   "execution_count": 14,
   "id": "2685da22-5136-455a-9db2-2e98bed404d1",
   "metadata": {},
   "outputs": [],
   "source": [
    "# Imports:\n",
    "import os \n",
    "import requests\n",
    "from dotenv import load_dotenv\n",
    "from bs4 import BeautifulSoup\n",
    "from IPython.display import Markdown, display\n",
    "from openai import OpenAI"
   ]
  },
  {
   "cell_type": "code",
   "execution_count": 15,
   "id": "00e192e0-77c7-434c-bec3-81c04f6d8688",
   "metadata": {},
   "outputs": [],
   "source": [
    "# Load env vars:\n",
    "load_dotenv()\n",
    "\n",
    "#API_KEY = os.getenv('OPENAI_API_KEY')\n",
    "API_KEY = 'ollama'\n",
    "# Add API key checks"
   ]
  },
  {
   "cell_type": "code",
   "execution_count": 16,
   "id": "6821bad8-cd47-4f91-89d0-b326853b28c4",
   "metadata": {},
   "outputs": [],
   "source": [
    "O_API = 'http://localhost:11434/v1'\n",
    "# Some websites need you to use proper headers when fetching them:\n",
    "headers = {\n",
    " \"User-Agent\": \"Mozilla/5.0 (Windows NT 10.0; Win64; x64) AppleWebKit/537.36 (KHTML, like Gecko) Chrome/117.0.0.0 Safari/537.36\"\n",
    "}\n",
    "MODEL = \"llama3.2\"\n",
    "url = \"https://aws.amazon.com/q/?nc2=h_ql_prod_fs_q\""
   ]
  },
  {
   "cell_type": "code",
   "execution_count": 17,
   "id": "8c654b16-1e7c-4acc-a618-49ae630fb1c2",
   "metadata": {},
   "outputs": [],
   "source": [
    "class Website:\n",
    "    \"\"\"Reads website contents\"\"\"\n",
    "    # Some websites need you to use proper headers when fetching them:\n",
    "\n",
    "    def __init__(self, url, req_hdr):\n",
    "        \"\"\"Initialtizes the class\"\"\"\n",
    "        self.url = url\n",
    "        self.req_hdr = req_hdr\n",
    "        response = requests.get(self.url, self.req_hdr)\n",
    "        soup = BeautifulSoup(response.content, 'html.parser')\n",
    "        self.title = soup.title.string if soup.title else 'No title found'\n",
    "        for irrelevant_text in soup.body([\"script\", \"style\", \"img\", \"input\"]):\n",
    "            irrelevant_text.decompose()\n",
    "        self.text = soup.body.get_text(separator='\\n', strip=True)\n",
    "    "
   ]
  },
  {
   "cell_type": "code",
   "execution_count": 18,
   "id": "402d5686-4e76-4110-b65a-b3906c35c0a4",
   "metadata": {},
   "outputs": [],
   "source": [
    "#1 Create your prompts:\n",
    "system_prompt = \"You are an expert assistant who analyzes the contents of a website \\\n",
    "and provide a crisp and short summary. ignore the text which might be for navigations. \\\n",
    "Output must be in markdown and highlight the important topics or points if any.\"\n",
    "\n",
    "\n",
    "def get_user_prompts(website):\n",
    "\n",
    "    user_prompts = f\"\"\"You are looking at a website titled {website.title}.\n",
    "    \\nThe content of this website is as follows:\n",
    "    \\n{website.text}\n",
    "    \\nPlease provide a short and crisp summary in markdown.\n",
    "    \\nIf it has news and announcements, summarize and highlight them as well.\n",
    "     \"\"\"\n",
    "    return user_prompts\n",
    "\n",
    "#print(user_prompts)"
   ]
  },
  {
   "cell_type": "code",
   "execution_count": 19,
   "id": "5349d82a-4de9-48cf-ac25-f3d0492ef58d",
   "metadata": {},
   "outputs": [],
   "source": [
    "#2 Prepare message format:\n",
    "\n",
    "def prompt_message(website):\n",
    "    return [\n",
    "        {\"role\": \"system\", \"content\": system_prompt},\n",
    "        {\"role\": \"user\", \"content\": get_user_prompts(website)}\n",
    "    ]\n",
    "    "
   ]
  },
  {
   "cell_type": "code",
   "execution_count": 21,
   "id": "a2a28c04-440f-4057-89e8-156bb53393a1",
   "metadata": {},
   "outputs": [],
   "source": [
    "def get_summary(url, hdr):\n",
    "    website = Website(url, hdr)\n",
    "    ollama_openai = OpenAI(base_url=O_API, api_key=API_KEY)\n",
    "    response = ollama_openai.chat.completions.create(\n",
    "        model=MODEL,\n",
    "        messages=prompt_message(website)\n",
    "    )\n",
    "    return response.choices[0].message.content\n",
    "\n",
    "# print(get_summary(url, headers))"
   ]
  },
  {
   "cell_type": "code",
   "execution_count": 22,
   "id": "787bc6e1-a461-4592-9612-70ca3baacd1e",
   "metadata": {
    "scrolled": true
   },
   "outputs": [
    {
     "data": {
      "text/markdown": [
       "**Amazon Q**\n",
       "================\n",
       "\n",
       "**Summary**\n",
       "\n",
       "Amazon Q is an intelligent virtual assistant that transforms how work gets done in organizations. It offers a range of functions, including coding assistance, dashboard creation, content generation, and more.\n",
       "\n",
       "### Features\n",
       "\n",
       "* Intermittent conversations with natural language input\n",
       "* Integration with enterprise data repositories\n",
       "* Support for developers and business users at all levels and capabilities\n",
       "* Multiple Foundation Models from Amazon and leading AI companies\n",
       "* Built on Amazon Bedrock, a fully managed service for building generative AI applications\n",
       "\n",
       "### Security**\n",
       "\n",
       "* Built with security and privacy in mind to meet enterprise clients' requirements\n",
       "* Uses Amazon Bedrock's controls to enforce safety, security, and responsible AI use\n",
       "\n",
       "### Pricing**\n",
       "\n",
       "* Most functionality requires a monthly fee; free trial available for short time\n",
       "* Prices vary depending on product integrations and services\n",
       "\n",
       "### New and Noteworthy\n",
       "\n",
       "**Announcements**\n",
       "\n",
       "* **Amazon Q Business**: Launches IAM federation for user identity authentication and is now HIPAA eligible\n",
       "* **Amazon Q Developer**: Features new capabilities to enhance the developer experience\n",
       "* **Desktop Version**: Available; highlights the mobile version's features (IAM federation, HIPAA eligibility)\n",
       "\n",
       "### Getting Started\n",
       "\n",
       "Visit [the Amazon Q Business page](link) or [the Amazon Q Developer page](link) to learn more and sign in to the console."
      ],
      "text/plain": [
       "<IPython.core.display.Markdown object>"
      ]
     },
     "metadata": {},
     "output_type": "display_data"
    }
   ],
   "source": [
    "\n",
    "display(Markdown(get_summary(url, headers)))"
   ]
  },
  {
   "cell_type": "code",
   "execution_count": null,
   "id": "767c3654-82f0-47db-af34-9fdfed0d5348",
   "metadata": {},
   "outputs": [],
   "source": []
  }
 ],
 "metadata": {
  "kernelspec": {
   "display_name": "Python 3 (ipykernel)",
   "language": "python",
   "name": "python3"
  },
  "language_info": {
   "codemirror_mode": {
    "name": "ipython",
    "version": 3
   },
   "file_extension": ".py",
   "mimetype": "text/x-python",
   "name": "python",
   "nbconvert_exporter": "python",
   "pygments_lexer": "ipython3",
   "version": "3.11.11"
  }
 },
 "nbformat": 4,
 "nbformat_minor": 5
}
